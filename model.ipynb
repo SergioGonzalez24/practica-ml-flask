{
 "cells": [
  {
   "cell_type": "code",
   "execution_count": 6,
   "metadata": {},
   "outputs": [],
   "source": [
    "# IMportacion de librerias\n",
    "import pandas as pd\n",
    "from sklearn.model_selection import train_test_split\n",
    "from sklearn.tree import DecisionTreeClassifier\n",
    "import joblib"
   ]
  },
  {
   "cell_type": "code",
   "execution_count": 4,
   "metadata": {},
   "outputs": [],
   "source": [
    "# Modelo\n",
    "df = pd.read_csv(\"WineQT.csv\")\n",
    "df['quality'] = df['quality'].replace([3,4,5,6,7,8,9],[\"Malo\",\"Malo\",\"Regular\",\"Regular\",\"Bueno\",\"Bueno\",\"Bueno\"])\n",
    "\n",
    "x = df.drop('quality',axis = 1) # Variable de entrada\n",
    "y = df['quality'] # Variable de salida\n"
   ]
  },
  {
   "cell_type": "code",
   "execution_count": 8,
   "metadata": {},
   "outputs": [
    {
     "name": "stdout",
     "output_type": "stream",
     "text": [
      "Train performance:  1.0\n",
      "Test performance:  0.834061135371179\n"
     ]
    }
   ],
   "source": [
    "# Train test split\n",
    "x_train, x_test, y_train, y_test = train_test_split(x,y,test_size=0.2,random_state=42)\n",
    "\n",
    "# Model generation\n",
    "dt = DecisionTreeClassifier(random_state=42)\n",
    "dt.fit(x_train,y_train)\n",
    "\n",
    "# Train performance\n",
    "res_train = dt.score(x_train,y_train)\n",
    "print(\"Train performance: \",res_train)\n",
    "\n",
    "# Test performance\n",
    "res_test = dt.score(x_test,y_test)\n",
    "print(\"Test performance: \",res_test)"
   ]
  },
  {
   "cell_type": "code",
   "execution_count": 11,
   "metadata": {},
   "outputs": [
    {
     "data": {
      "text/plain": [
       "['dtl.joblib']"
      ]
     },
     "execution_count": 11,
     "metadata": {},
     "output_type": "execute_result"
    }
   ],
   "source": [
    "joblib.dump(dt, 'dtl.joblib')"
   ]
  },
  {
   "cell_type": "code",
   "execution_count": 12,
   "metadata": {},
   "outputs": [
    {
     "name": "stdout",
     "output_type": "stream",
     "text": [
      "['Regular']\n"
     ]
    }
   ],
   "source": [
    "x_test.iloc[[0]]\n",
    "print(dt.predict(x_test.iloc[[0]]))"
   ]
  }
 ],
 "metadata": {
  "kernelspec": {
   "display_name": "base",
   "language": "python",
   "name": "python3"
  },
  "language_info": {
   "codemirror_mode": {
    "name": "ipython",
    "version": 3
   },
   "file_extension": ".py",
   "mimetype": "text/x-python",
   "name": "python",
   "nbconvert_exporter": "python",
   "pygments_lexer": "ipython3",
   "version": "3.11.3"
  },
  "orig_nbformat": 4
 },
 "nbformat": 4,
 "nbformat_minor": 2
}
